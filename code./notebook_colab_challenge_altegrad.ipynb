{
  "cells": [
    {
      "cell_type": "markdown",
      "metadata": {
        "id": "28sDwQFBMa8L"
      },
      "source": [
        "## Installation"
      ]
    },
    {
      "cell_type": "code",
      "execution_count": null,
      "metadata": {
        "colab": {
          "base_uri": "https://localhost:8080/"
        },
        "id": "La00mJrXQENy",
        "outputId": "71b19eb2-1870-49af-e272-57fab3682de2"
      },
      "outputs": [],
      "source": [
        "from google.colab import drive\n",
        "drive.mount('/content/drive')"
      ]
    },
    {
      "cell_type": "code",
      "execution_count": null,
      "metadata": {
        "colab": {
          "base_uri": "https://localhost:8080/"
        },
        "id": "h_zn6XfDo195",
        "outputId": "b325c32a-1daf-4fca-f0a9-dd35cf576018"
      },
      "outputs": [],
      "source": [
        "!pip install kaggle"
      ]
    },
    {
      "cell_type": "code",
      "execution_count": null,
      "metadata": {
        "id": "r5ubB9s7o3Wb"
      },
      "outputs": [],
      "source": [
        "import os\n",
        "os.environ['KAGGLE_CONFIG_DIR'] = '/content/drive/MyDrive/Kaggle'"
      ]
    },
    {
      "cell_type": "code",
      "execution_count": null,
      "metadata": {
        "colab": {
          "base_uri": "https://localhost:8080/"
        },
        "id": "xckVu2qlpQ6n",
        "outputId": "5a3d1dbf-4315-4ae1-9b4f-b2fc76534df9"
      },
      "outputs": [],
      "source": [
        "!kaggle datasets download -d adibhabbou/challenge-altegrad"
      ]
    },
    {
      "cell_type": "code",
      "execution_count": null,
      "metadata": {
        "colab": {
          "base_uri": "https://localhost:8080/"
        },
        "id": "pQvoJwFMr-Cn",
        "outputId": "d3240507-647e-4ebe-a7b8-4f3dbb27d976"
      },
      "outputs": [],
      "source": [
        "!unzip challenge-altegrad.zip"
      ]
    },
    {
      "cell_type": "code",
      "execution_count": null,
      "metadata": {
        "id": "tZ7R0vB2KPj_"
      },
      "outputs": [],
      "source": [
        "!pip install torch torch-geometric transformers pandas numpy"
      ]
    },
    {
      "cell_type": "markdown",
      "metadata": {
        "id": "wqJPWQ6mMa8M"
      },
      "source": [
        "## Imports"
      ]
    },
    {
      "cell_type": "code",
      "execution_count": null,
      "metadata": {
        "execution": {
          "iopub.execute_input": "2023-12-26T22:20:28.431279Z",
          "iopub.status.busy": "2023-12-26T22:20:28.430912Z",
          "iopub.status.idle": "2023-12-26T22:20:28.437991Z",
          "shell.execute_reply": "2023-12-26T22:20:28.437139Z",
          "shell.execute_reply.started": "2023-12-26T22:20:28.431249Z"
        },
        "id": "7MJ7tI3kMa8M",
        "trusted": true
      },
      "outputs": [],
      "source": [
        "import os\n",
        "import os.path as osp\n",
        "import time\n",
        "import numpy as np\n",
        "import pandas as pd\n",
        "\n",
        "import torch\n",
        "from torch import nn, optim\n",
        "import torch.nn.functional as F\n",
        "from torch.utils.data import Dataset as TorchDataset\n",
        "from torch.utils.data import DataLoader as TorchDataLoader\n",
        "\n",
        "from torch_geometric.loader import DataLoader\n",
        "from torch_geometric.data import Dataset, Data\n",
        "from torch_geometric.nn import GCNConv, GATConv, GATv2Conv, SuperGATConv\n",
        "from torch_geometric.nn import global_mean_pool, global_max_pool\n",
        "\n",
        "from transformers import AutoModel, AutoTokenizer\n",
        "\n",
        "from sklearn.metrics.pairwise import cosine_similarity"
      ]
    },
    {
      "cell_type": "markdown",
      "metadata": {
        "id": "PT1wrXg2Ma8N"
      },
      "source": [
        "## Data Sets/Loaders"
      ]
    },
    {
      "cell_type": "markdown",
      "metadata": {
        "id": "pQtID25fMa8N"
      },
      "source": [
        "### Graph-Text"
      ]
    },
    {
      "cell_type": "code",
      "execution_count": null,
      "metadata": {
        "execution": {
          "iopub.execute_input": "2023-12-26T22:20:28.439433Z",
          "iopub.status.busy": "2023-12-26T22:20:28.439169Z",
          "iopub.status.idle": "2023-12-26T22:20:28.459694Z",
          "shell.execute_reply": "2023-12-26T22:20:28.458933Z",
          "shell.execute_reply.started": "2023-12-26T22:20:28.439410Z"
        },
        "id": "Wvn7XkatMa8N",
        "trusted": true
      },
      "outputs": [],
      "source": [
        "class GraphTextDataset(Dataset):\n",
        "    def __init__(self, root, gt, split, tokenizer=None, transform=None, pre_transform=None):\n",
        "        self.root = root\n",
        "        self.gt = gt\n",
        "        self.split = split\n",
        "        self.tokenizer = tokenizer\n",
        "        self.description = pd.read_csv(os.path.join(self.root, split+'.tsv'), sep='\\t', header=None)\n",
        "        self.description = self.description.set_index(0).to_dict()\n",
        "        self.cids = list(self.description[1].keys())\n",
        "\n",
        "        self.idx_to_cid = {}\n",
        "        i = 0\n",
        "        for cid in self.cids:\n",
        "            self.idx_to_cid[i] = cid\n",
        "            i += 1\n",
        "        super(GraphTextDataset, self).__init__(root, transform, pre_transform)\n",
        "\n",
        "    @property\n",
        "    def raw_file_names(self):\n",
        "        return [str(cid) + \".graph\" for cid in self.cids]\n",
        "\n",
        "    @property\n",
        "    def processed_file_names(self):\n",
        "        return ['data_{}.pt'.format(cid) for cid in self.cids]\n",
        "\n",
        "    @property\n",
        "    def raw_dir(self) -> str:\n",
        "        return osp.join(self.root, 'raw')\n",
        "\n",
        "    @property\n",
        "    def processed_dir(self) -> str:\n",
        "        return osp.join(self.root, 'processed/', self.split)\n",
        "\n",
        "    def download(self):\n",
        "        pass\n",
        "\n",
        "    def process_graph(self, raw_path):\n",
        "      edge_index  = []\n",
        "      x = []\n",
        "      with open(raw_path, 'r') as f:\n",
        "        next(f)\n",
        "        for line in f:\n",
        "          if line != \"\\n\":\n",
        "            edge = *map(int, line.split()),\n",
        "            edge_index.append(edge)\n",
        "          else:\n",
        "            break\n",
        "        next(f)\n",
        "        for line in f: #get mol2vec features:\n",
        "          substruct_id = line.strip().split()[-1]\n",
        "          if substruct_id in self.gt.keys():\n",
        "            x.append(self.gt[substruct_id])\n",
        "          else:\n",
        "            x.append(self.gt['UNK'])\n",
        "        return torch.LongTensor(edge_index).T, torch.FloatTensor(x)\n",
        "\n",
        "    def process(self):\n",
        "        i = 0\n",
        "        for raw_path in self.raw_paths:\n",
        "            cid = int(raw_path.split('\\\\')[-1][:-6])\n",
        "            text_input = self.tokenizer([self.description[1][cid]],\n",
        "                                   return_tensors=\"pt\",\n",
        "                                   truncation=True,\n",
        "                                   max_length=256,\n",
        "                                   padding=\"max_length\",\n",
        "                                   add_special_tokens=True,)\n",
        "            edge_index, x = self.process_graph(raw_path)\n",
        "            data = Data(x=x, edge_index=edge_index, input_ids=text_input['input_ids'], attention_mask=text_input['attention_mask'])\n",
        "\n",
        "            torch.save(data, osp.join(self.processed_dir, 'data_{}.pt'.format(cid)))\n",
        "            i += 1\n",
        "\n",
        "    def len(self):\n",
        "        return len(self.processed_file_names)\n",
        "\n",
        "    def get(self, idx):\n",
        "        data = torch.load(osp.join(self.processed_dir, 'data_{}.pt'.format(self.idx_to_cid[idx])))\n",
        "        return data\n",
        "\n",
        "    def get_cid(self, cid):\n",
        "        data = torch.load(osp.join(self.processed_dir, 'data_{}.pt'.format(cid)))\n",
        "        return data"
      ]
    },
    {
      "cell_type": "markdown",
      "metadata": {
        "id": "NwrT0WtlMa8N"
      },
      "source": [
        "### Graph"
      ]
    },
    {
      "cell_type": "code",
      "execution_count": null,
      "metadata": {
        "execution": {
          "iopub.execute_input": "2023-12-26T22:20:28.462098Z",
          "iopub.status.busy": "2023-12-26T22:20:28.461816Z",
          "iopub.status.idle": "2023-12-26T22:20:28.502724Z",
          "shell.execute_reply": "2023-12-26T22:20:28.501789Z",
          "shell.execute_reply.started": "2023-12-26T22:20:28.462075Z"
        },
        "id": "whIWv_REn_2O",
        "trusted": true
      },
      "outputs": [],
      "source": [
        "class GraphDataset(Dataset):\n",
        "    def __init__(self, root, gt, split, transform=None, pre_transform=None):\n",
        "        self.root = root\n",
        "        self.gt = gt\n",
        "        self.split = split\n",
        "        self.description = pd.read_csv(os.path.join(self.root, split+'.txt'), sep='\\t', header=None)\n",
        "        self.cids = self.description[0].tolist()\n",
        "\n",
        "        self.idx_to_cid = {}\n",
        "        i = 0\n",
        "        for cid in self.cids:\n",
        "            self.idx_to_cid[i] = cid\n",
        "            i += 1\n",
        "        super(GraphDataset, self).__init__(root, transform, pre_transform)\n",
        "\n",
        "    @property\n",
        "    def raw_file_names(self):\n",
        "        return [str(cid) + \".graph\" for cid in self.cids]\n",
        "\n",
        "    @property\n",
        "    def processed_file_names(self):\n",
        "        return ['data_{}.pt'.format(cid) for cid in self.cids]\n",
        "\n",
        "    @property\n",
        "    def raw_dir(self) -> str:\n",
        "        return osp.join(self.root, 'raw')\n",
        "\n",
        "    @property\n",
        "    def processed_dir(self) -> str:\n",
        "        return osp.join(self.root, 'processed/', self.split)\n",
        "\n",
        "    def download(self):\n",
        "        pass\n",
        "\n",
        "    def process_graph(self, raw_path):\n",
        "      edge_index  = []\n",
        "      x = []\n",
        "      with open(raw_path, 'r') as f:\n",
        "        next(f)\n",
        "        for line in f:\n",
        "          if line != \"\\n\":\n",
        "            edge = *map(int, line.split()),\n",
        "            edge_index.append(edge)\n",
        "          else:\n",
        "            break\n",
        "        next(f)\n",
        "        for line in f:\n",
        "          substruct_id = line.strip().split()[-1]\n",
        "          if substruct_id in self.gt.keys():\n",
        "            x.append(self.gt[substruct_id])\n",
        "          else:\n",
        "            x.append(self.gt['UNK'])\n",
        "        return torch.LongTensor(edge_index).T, torch.FloatTensor(x)\n",
        "\n",
        "    def process(self):\n",
        "        os.makedirs(self.processed_dir, exist_ok=True)\n",
        "        i = 0\n",
        "        for raw_path in self.raw_paths:\n",
        "            cid = int(raw_path.split('\\\\')[-1][:-6])\n",
        "            edge_index, x = self.process_graph(raw_path)\n",
        "            data = Data(x=x, edge_index=edge_index)\n",
        "            torch.save(data, osp.join(self.processed_dir, 'data_{}.pt'.format(cid)))\n",
        "            i += 1\n",
        "\n",
        "    def len(self):\n",
        "        return len(self.processed_file_names)\n",
        "\n",
        "    def get(self, idx):\n",
        "        data = torch.load(osp.join(self.processed_dir, 'data_{}.pt'.format(self.idx_to_cid[idx])))\n",
        "        return data\n",
        "\n",
        "    def get_cid(self, cid):\n",
        "        data = torch.load(osp.join(self.processed_dir, 'data_{}.pt'.format(cid)))\n",
        "        return data\n",
        "\n",
        "    def get_idx_to_cid(self):\n",
        "        return self.idx_to_cid"
      ]
    },
    {
      "cell_type": "markdown",
      "metadata": {
        "id": "gH5RiAl_Ma8O"
      },
      "source": [
        "### Text"
      ]
    },
    {
      "cell_type": "code",
      "execution_count": null,
      "metadata": {
        "execution": {
          "iopub.execute_input": "2023-12-26T22:20:28.504073Z",
          "iopub.status.busy": "2023-12-26T22:20:28.503797Z",
          "iopub.status.idle": "2023-12-26T22:20:28.519181Z",
          "shell.execute_reply": "2023-12-26T22:20:28.518269Z",
          "shell.execute_reply.started": "2023-12-26T22:20:28.504049Z"
        },
        "id": "VSQcfKMAMa8O",
        "trusted": true
      },
      "outputs": [],
      "source": [
        "class TextDataset(TorchDataset):\n",
        "    def __init__(self, file_path, tokenizer, max_length=256):\n",
        "        self.tokenizer = tokenizer\n",
        "        self.max_length = max_length\n",
        "        self.sentences = self.load_sentences(file_path)\n",
        "\n",
        "    def load_sentences(self, file_path):\n",
        "        with open(file_path, 'r', encoding='utf-8') as file:\n",
        "            lines = file.readlines()\n",
        "        return [line.strip() for line in lines]\n",
        "\n",
        "    def __len__(self):\n",
        "        return len(self.sentences)\n",
        "\n",
        "    def __getitem__(self, idx):\n",
        "        sentence = self.sentences[idx]\n",
        "\n",
        "        encoding = self.tokenizer.encode_plus(\n",
        "            sentence,\n",
        "            add_special_tokens=True,\n",
        "            max_length=self.max_length,\n",
        "            padding='max_length',\n",
        "            truncation=True,\n",
        "            return_tensors='pt'\n",
        "        )\n",
        "\n",
        "        return {\n",
        "            'input_ids': encoding['input_ids'].squeeze(),\n",
        "            'attention_mask': encoding['attention_mask'].squeeze()\n",
        "        }"
      ]
    },
    {
      "cell_type": "markdown",
      "metadata": {
        "id": "yZJ8o7WMMa8O"
      },
      "source": [
        "## Models"
      ]
    },
    {
      "cell_type": "markdown",
      "metadata": {
        "id": "FKF0EsQ1Ma8P"
      },
      "source": [
        "### Graph Encoder Model"
      ]
    },
    {
      "cell_type": "code",
      "execution_count": null,
      "metadata": {
        "execution": {
          "iopub.execute_input": "2023-12-26T22:20:28.521290Z",
          "iopub.status.busy": "2023-12-26T22:20:28.520558Z",
          "iopub.status.idle": "2023-12-26T22:20:28.533964Z",
          "shell.execute_reply": "2023-12-26T22:20:28.533142Z",
          "shell.execute_reply.started": "2023-12-26T22:20:28.521255Z"
        },
        "id": "LElUFI7oMa8P",
        "trusted": true
      },
      "outputs": [],
      "source": [
        "class GraphEncoderBaseline(nn.Module):\n",
        "    def __init__(self, num_node_features, nout, nhid, graph_hidden_channels):\n",
        "        super(GraphEncoderBaseline, self).__init__()\n",
        "        self.nhid = nhid\n",
        "        self.nout = nout\n",
        "        self.relu = nn.ReLU()\n",
        "        self.ln = nn.LayerNorm((nout))\n",
        "        self.conv1 = GCNConv(num_node_features, graph_hidden_channels)\n",
        "        self.conv2 = GCNConv(graph_hidden_channels, graph_hidden_channels)\n",
        "        self.conv3 = GCNConv(graph_hidden_channels, graph_hidden_channels)\n",
        "        self.mol_hidden1 = nn.Linear(graph_hidden_channels, nhid)\n",
        "        self.mol_hidden2 = nn.Linear(nhid, nout)\n",
        "\n",
        "    def forward(self, graph_batch):\n",
        "        x = graph_batch.x\n",
        "        edge_index = graph_batch.edge_index\n",
        "        batch = graph_batch.batch\n",
        "        x = self.conv1(x, edge_index)\n",
        "        x = x.relu()\n",
        "        x = self.conv2(x, edge_index)\n",
        "        x = x.relu()\n",
        "        x = self.conv3(x, edge_index)\n",
        "        x = global_mean_pool(x, batch)\n",
        "        x = self.mol_hidden1(x).relu()\n",
        "        x = self.mol_hidden2(x)\n",
        "        return x"
      ]
    },
    {
      "cell_type": "code",
      "execution_count": null,
      "metadata": {
        "execution": {
          "iopub.execute_input": "2023-12-26T22:20:28.547097Z",
          "iopub.status.busy": "2023-12-26T22:20:28.546797Z",
          "iopub.status.idle": "2023-12-26T22:20:28.561012Z",
          "shell.execute_reply": "2023-12-26T22:20:28.559971Z",
          "shell.execute_reply.started": "2023-12-26T22:20:28.547073Z"
        },
        "id": "9FbmwmzXMa8P",
        "trusted": true
      },
      "outputs": [],
      "source": [
        "class GraphEncoderAttention(nn.Module):\n",
        "    def __init__(self, num_node_features, nout, nhid, graph_hidden_channels, num_heads=25, dropout=0.2):\n",
        "        super(GraphEncoderAttention, self).__init__()\n",
        "        self.nhid = nhid\n",
        "        self.nout = nout\n",
        "        self.relu = nn.ReLU()\n",
        "        self.dropout = nn.Dropout(dropout) \n",
        "        self.conv1 = GATConv(num_node_features, graph_hidden_channels, heads=num_heads)\n",
        "        self.conv2 = GATConv(graph_hidden_channels * num_heads, graph_hidden_channels, heads=num_heads)\n",
        "        self.conv3 = GATConv(graph_hidden_channels * num_heads, graph_hidden_channels, heads=num_heads)\n",
        "        self.mol_hidden1 = nn.Linear(graph_hidden_channels * num_heads, nhid)\n",
        "        self.mol_hidden2 = nn.Linear(nhid, nout)\n",
        "\n",
        "    def forward(self, graph_batch):\n",
        "        x = graph_batch.x\n",
        "        edge_index = graph_batch.edge_index\n",
        "        batch = graph_batch.batch\n",
        "        x = self.conv1(x, edge_index)\n",
        "        x = self.relu(x)\n",
        "        x = self.conv2(x, edge_index)\n",
        "        x = self.relu(x)\n",
        "        x = self.conv3(x, edge_index)\n",
        "        x = self.relu(x)\n",
        "        x = global_max_pool(x, batch)\n",
        "        x = self.dropout(x)\n",
        "        x = self.mol_hidden1(x)\n",
        "        x = self.relu(x)\n",
        "        x = self.mol_hidden2(x)\n",
        "        return x"
      ]
    },
    {
      "cell_type": "code",
      "execution_count": null,
      "metadata": {},
      "outputs": [],
      "source": [
        "class GraphEncoderAttentionV2(nn.Module):\n",
        "    def __init__(self, num_node_features, nout, nhid, graph_hidden_channels, num_heads=20, dropout=0.2):\n",
        "        super(GraphEncoderAttentionV2, self).__init__()\n",
        "        self.nhid = nhid\n",
        "        self.nout = nout\n",
        "        self.relu = nn.ReLU()\n",
        "        self.dropout = nn.Dropout(dropout) \n",
        "        self.conv1 = GATv2Conv(num_node_features, graph_hidden_channels, heads=num_heads)\n",
        "        self.conv2 = GATv2Conv(graph_hidden_channels * num_heads, graph_hidden_channels, heads=num_heads)\n",
        "        self.conv3 = GATv2Conv(graph_hidden_channels * num_heads, graph_hidden_channels, heads=num_heads)\n",
        "        self.mol_hidden1 = nn.Linear(graph_hidden_channels * num_heads, nhid)\n",
        "        self.mol_hidden2 = nn.Linear(nhid, nout)\n",
        "\n",
        "    def forward(self, graph_batch):\n",
        "        x = graph_batch.x\n",
        "        edge_index = graph_batch.edge_index\n",
        "        batch = graph_batch.batch\n",
        "        x = self.conv1(x, edge_index)\n",
        "        x = self.relu(x)\n",
        "        x = self.conv2(x, edge_index)\n",
        "        x = self.relu(x)\n",
        "        x = self.conv3(x, edge_index)\n",
        "        x = self.relu(x)\n",
        "        x = global_max_pool(x, batch)\n",
        "        x = self.dropout(x)\n",
        "        x = self.mol_hidden1(x)\n",
        "        x = self.relu(x)\n",
        "        x = self.mol_hidden2(x)\n",
        "        return x"
      ]
    },
    {
      "cell_type": "code",
      "execution_count": null,
      "metadata": {},
      "outputs": [],
      "source": [
        "class GraphEncoderSuperAttention(nn.Module):\n",
        "    def __init__(self, num_node_features, nout, nhid, graph_hidden_channels, num_heads=25, dropout=0.2):\n",
        "        super(GraphEncoderSuperAttention, self).__init__()\n",
        "        self.nhid = nhid\n",
        "        self.nout = nout\n",
        "        self.relu = nn.ReLU()\n",
        "        self.dropout = nn.Dropout(dropout) \n",
        "        self.conv1 = SuperGATConv(num_node_features, graph_hidden_channels, heads=num_heads)\n",
        "        self.conv2 = SuperGATConv(graph_hidden_channels * num_heads, graph_hidden_channels, heads=num_heads)\n",
        "        self.conv3 = SuperGATConv(graph_hidden_channels * num_heads, graph_hidden_channels, heads=num_heads)\n",
        "        self.mol_hidden1 = nn.Linear(graph_hidden_channels * num_heads, nhid)\n",
        "        self.mol_hidden2 = nn.Linear(nhid, nout)\n",
        "\n",
        "    def forward(self, graph_batch):\n",
        "        x = graph_batch.x\n",
        "        edge_index = graph_batch.edge_index\n",
        "        batch = graph_batch.batch\n",
        "        x = self.conv1(x, edge_index)\n",
        "        x = self.relu(x)\n",
        "        x = self.conv2(x, edge_index)\n",
        "        x = self.relu(x)\n",
        "        x = self.conv3(x, edge_index)\n",
        "        x = self.relu(x)\n",
        "        x = global_max_pool(x, batch)\n",
        "        x = self.dropout(x)\n",
        "        x = self.mol_hidden1(x)\n",
        "        x = self.relu(x)\n",
        "        x = self.mol_hidden2(x)\n",
        "        return x"
      ]
    },
    {
      "cell_type": "markdown",
      "metadata": {
        "id": "mCbJ43jIMa8P"
      },
      "source": [
        "### Text Encoder Model"
      ]
    },
    {
      "cell_type": "code",
      "execution_count": null,
      "metadata": {
        "execution": {
          "iopub.execute_input": "2023-12-26T22:20:28.579771Z",
          "iopub.status.busy": "2023-12-26T22:20:28.579478Z",
          "iopub.status.idle": "2023-12-26T22:20:28.588794Z",
          "shell.execute_reply": "2023-12-26T22:20:28.587946Z",
          "shell.execute_reply.started": "2023-12-26T22:20:28.579747Z"
        },
        "id": "WkaqXvvbMa8P",
        "trusted": true
      },
      "outputs": [],
      "source": [
        "class TextEncoderBaseline(nn.Module):\n",
        "    def __init__(self, model_name):\n",
        "        super(TextEncoderBaseline, self).__init__()\n",
        "        self.bert = AutoModel.from_pretrained(model_name)\n",
        "\n",
        "    def forward(self, input_ids, attention_mask):\n",
        "        encoded_text = self.bert(input_ids, attention_mask=attention_mask)\n",
        "        return encoded_text.last_hidden_state[:,0,:]"
      ]
    },
    {
      "cell_type": "markdown",
      "metadata": {
        "id": "zUf4SWOXMa8P"
      },
      "source": [
        "### Full Model"
      ]
    },
    {
      "cell_type": "code",
      "execution_count": null,
      "metadata": {
        "execution": {
          "iopub.execute_input": "2023-12-26T22:20:28.590027Z",
          "iopub.status.busy": "2023-12-26T22:20:28.589723Z",
          "iopub.status.idle": "2023-12-26T22:20:28.600276Z",
          "shell.execute_reply": "2023-12-26T22:20:28.599368Z",
          "shell.execute_reply.started": "2023-12-26T22:20:28.589975Z"
        },
        "id": "bD6ZDm4BMa8P",
        "trusted": true
      },
      "outputs": [],
      "source": [
        "class Model(nn.Module):\n",
        "    def __init__(self, model_name, num_node_features, nout, nhid, graph_hidden_channels):\n",
        "        super(Model, self).__init__()\n",
        "        self.graph_encoder = GraphEncoderAttention(num_node_features, nout, nhid, graph_hidden_channels)\n",
        "        self.text_encoder = TextEncoderBaseline(model_name)\n",
        "\n",
        "    def forward(self, graph_batch, input_ids, attention_mask):\n",
        "        graph_encoded = self.graph_encoder(graph_batch)\n",
        "        text_encoded = self.text_encoder(input_ids, attention_mask)\n",
        "        return graph_encoded, text_encoded\n",
        "\n",
        "    def get_text_encoder(self):\n",
        "        return self.text_encoder\n",
        "\n",
        "    def get_graph_encoder(self):\n",
        "        return self.graph_encoder"
      ]
    },
    {
      "cell_type": "markdown",
      "metadata": {
        "id": "0ZVrNk9PMa8P"
      },
      "source": [
        "## Pipeline"
      ]
    },
    {
      "cell_type": "markdown",
      "metadata": {
        "id": "Z4oe0WO-Ma8Q"
      },
      "source": [
        "### Loss"
      ]
    },
    {
      "cell_type": "code",
      "execution_count": null,
      "metadata": {
        "execution": {
          "iopub.execute_input": "2023-12-26T22:20:28.601591Z",
          "iopub.status.busy": "2023-12-26T22:20:28.601307Z",
          "iopub.status.idle": "2023-12-26T22:20:28.615030Z",
          "shell.execute_reply": "2023-12-26T22:20:28.614202Z",
          "shell.execute_reply.started": "2023-12-26T22:20:28.601565Z"
        },
        "id": "iClCwSWFMa8Q",
        "trusted": true
      },
      "outputs": [],
      "source": [
        "CE = torch.nn.CrossEntropyLoss()\n",
        "\n",
        "def contrastive_loss(v1, v2):\n",
        "  logits = torch.matmul(v1,torch.transpose(v2, 0, 1))\n",
        "  labels = torch.arange(logits.shape[0], device=v1.device)\n",
        "  return CE(logits, labels) + CE(torch.transpose(logits, 0, 1), labels)"
      ]
    },
    {
      "cell_type": "markdown",
      "metadata": {
        "id": "E8Ri-WxoMa8Q"
      },
      "source": [
        "### Text Tokenization"
      ]
    },
    {
      "cell_type": "code",
      "execution_count": null,
      "metadata": {
        "execution": {
          "iopub.execute_input": "2023-12-26T22:20:28.617034Z",
          "iopub.status.busy": "2023-12-26T22:20:28.616171Z",
          "iopub.status.idle": "2023-12-26T22:21:36.722366Z",
          "shell.execute_reply": "2023-12-26T22:21:36.721149Z",
          "shell.execute_reply.started": "2023-12-26T22:20:28.616995Z"
        },
        "id": "4NXc6lEbMa8Q",
        "trusted": true
      },
      "outputs": [],
      "source": [
        "model_name = 'distilbert-base-uncased'\n",
        "tokenizer = AutoTokenizer.from_pretrained(model_name)\n",
        "gt = np.load(\"data/token_embedding_dict.npy\", allow_pickle=True)[()]\n",
        "val_dataset = GraphTextDataset(root='data', gt=gt, split='val', tokenizer=tokenizer)\n",
        "train_dataset = GraphTextDataset(root='data', gt=gt, split='train', tokenizer=tokenizer)"
      ]
    },
    {
      "cell_type": "markdown",
      "metadata": {
        "id": "QItkFe7RMa8R"
      },
      "source": [
        "### Train and Validation Pipeline"
      ]
    },
    {
      "cell_type": "code",
      "execution_count": null,
      "metadata": {
        "execution": {
          "iopub.execute_input": "2023-12-26T22:21:36.724084Z",
          "iopub.status.busy": "2023-12-26T22:21:36.723753Z",
          "iopub.status.idle": "2023-12-26T22:21:37.010791Z",
          "shell.execute_reply": "2023-12-26T22:21:37.009807Z",
          "shell.execute_reply.started": "2023-12-26T22:21:36.724056Z"
        },
        "id": "hc_Ov2pHMa8R",
        "trusted": true
      },
      "outputs": [],
      "source": [
        "device = torch.device(\"cuda\" if torch.cuda.is_available() else \"cpu\")\n",
        "\n",
        "nb_epochs = 40\n",
        "batch_size = 16\n",
        "learning_rate = 1e-5\n",
        "\n",
        "val_loader = DataLoader(val_dataset, batch_size=batch_size, shuffle=True)\n",
        "train_loader = DataLoader(train_dataset, batch_size=batch_size, shuffle=True)\n",
        "\n",
        "model = Model(model_name=model_name, num_node_features=300, nout=768, nhid=500, graph_hidden_channels=500)\n",
        "model.to(device)\n",
        "\n",
        "optimizer = optim.AdamW(model.parameters(), lr=learning_rate, betas=(0.9, 0.999), weight_decay=0.01, eps=1e-06)\n",
        "scheduler = optim.lr_scheduler.CosineAnnealingLR(optimizer, T_max=10, eta_min=0)\n",
        "\n",
        "epoch = 0\n",
        "loss = 0\n",
        "losses = []\n",
        "count_iter = 0\n",
        "time1 = time.time()\n",
        "printEvery = 50\n",
        "best_validation_loss = 1000000"
      ]
    },
    {
      "cell_type": "code",
      "execution_count": null,
      "metadata": {
        "execution": {
          "iopub.execute_input": "2023-12-26T22:21:37.012398Z",
          "iopub.status.busy": "2023-12-26T22:21:37.012095Z",
          "iopub.status.idle": "2023-12-27T00:00:49.317768Z",
          "shell.execute_reply": "2023-12-27T00:00:49.316744Z",
          "shell.execute_reply.started": "2023-12-26T22:21:37.012372Z"
        },
        "id": "4aMCxkHtp554",
        "trusted": true
      },
      "outputs": [],
      "source": [
        "for i in range(nb_epochs):\n",
        "    print('------------------------- EPOCH {} -------------------------'.format(i+1))\n",
        "    model.train()\n",
        "    for batch in train_loader:\n",
        "        input_ids = batch.input_ids\n",
        "        batch.pop('input_ids')\n",
        "        attention_mask = batch.attention_mask\n",
        "        batch.pop('attention_mask')\n",
        "        graph_batch = batch\n",
        "\n",
        "        x_graph, x_text = model(graph_batch.to(device), input_ids.to(device), attention_mask.to(device))\n",
        "        current_loss = contrastive_loss(x_graph, x_text)\n",
        "        optimizer.zero_grad()\n",
        "        current_loss.backward()\n",
        "        optimizer.step()\n",
        "        scheduler.step()\n",
        "        loss += current_loss.item()\n",
        "\n",
        "        count_iter += 1\n",
        "        if count_iter % printEvery == 0:\n",
        "            time2 = time.time()\n",
        "            print(\"Iteration: {0}, Time: {1:.4f} s, Training Loss: {2:.4f}\".format(count_iter, time2 - time1, loss/printEvery))\n",
        "            losses.append(loss)\n",
        "            loss = 0\n",
        "\n",
        "    model.eval()\n",
        "    val_loss = 0\n",
        "\n",
        "    for batch in val_loader:\n",
        "        input_ids = batch.input_ids\n",
        "        batch.pop('input_ids')\n",
        "        attention_mask = batch.attention_mask\n",
        "        batch.pop('attention_mask')\n",
        "        graph_batch = batch\n",
        "        x_graph, x_text = model(graph_batch.to(device), input_ids.to(device), attention_mask.to(device))\n",
        "        current_loss = contrastive_loss(x_graph, x_text)\n",
        "        val_loss += current_loss.item()\n",
        "\n",
        "    best_validation_loss = min(best_validation_loss, val_loss)\n",
        "\n",
        "    print('\\nEpoch ' + str(i+1) + ' done.  Validation Loss: ', str(val_loss/len(val_loader)))\n",
        "\n",
        "    if best_validation_loss==val_loss:\n",
        "        print('Validation Loss Improoved')\n",
        "        print('Saving Checkpoint...')\n",
        "        save_path = os.path.join('./', 'model.pt')\n",
        "        torch.save({\n",
        "        'epoch': i,\n",
        "        'model_state_dict': model.state_dict(),\n",
        "        'optimizer_state_dict': optimizer.state_dict(),\n",
        "        'validation_accuracy': val_loss,\n",
        "        'loss': loss,\n",
        "        }, save_path)\n",
        "        print('Checkpoint Saved To: {}\\n'.format(save_path))\n",
        "    else:\n",
        "        print('Validation Loss Not Improoved\\n')"
      ]
    },
    {
      "cell_type": "markdown",
      "metadata": {
        "id": "O-hjgwyKMa8S"
      },
      "source": [
        "### Best Model"
      ]
    },
    {
      "cell_type": "code",
      "execution_count": null,
      "metadata": {
        "execution": {
          "iopub.execute_input": "2023-12-27T00:00:49.319558Z",
          "iopub.status.busy": "2023-12-27T00:00:49.319166Z",
          "iopub.status.idle": "2023-12-27T00:00:49.809964Z",
          "shell.execute_reply": "2023-12-27T00:00:49.809026Z",
          "shell.execute_reply.started": "2023-12-27T00:00:49.319521Z"
        },
        "id": "REJmk-UDMa8S",
        "trusted": true
      },
      "outputs": [],
      "source": [
        "print('Loading Best Model...\\n')\n",
        "\n",
        "checkpoint = torch.load(save_path)\n",
        "model.load_state_dict(checkpoint['model_state_dict'])\n",
        "model.eval()\n",
        "\n",
        "graph_model = model.get_graph_encoder()\n",
        "text_model = model.get_text_encoder()\n",
        "\n",
        "print('Loading Best Model Done!')"
      ]
    },
    {
      "cell_type": "markdown",
      "metadata": {
        "id": "RDnoQ3amMa8U"
      },
      "source": [
        "### Test Pipeline"
      ]
    },
    {
      "cell_type": "code",
      "execution_count": null,
      "metadata": {
        "execution": {
          "iopub.execute_input": "2023-12-27T00:00:49.811776Z",
          "iopub.status.busy": "2023-12-27T00:00:49.811386Z",
          "iopub.status.idle": "2023-12-27T00:01:25.298646Z",
          "shell.execute_reply": "2023-12-27T00:01:25.297508Z",
          "shell.execute_reply.started": "2023-12-27T00:00:49.811741Z"
        },
        "id": "NWldOJbiMa8U",
        "trusted": true
      },
      "outputs": [],
      "source": [
        "print('Text Embeddings...\\n')\n",
        "\n",
        "test_cids_dataset = GraphDataset(root='/content/data', gt=gt, split='test_cids')\n",
        "test_text_dataset = TextDataset(file_path='/content/data/test_text.txt', tokenizer=tokenizer)\n",
        "\n",
        "idx_to_cid = test_cids_dataset.get_idx_to_cid()\n",
        "\n",
        "test_loader = DataLoader(test_cids_dataset, batch_size=batch_size, shuffle=False)\n",
        "\n",
        "graph_embeddings = []\n",
        "for batch in test_loader:\n",
        "    for output in graph_model(batch.to(device)):\n",
        "        graph_embeddings.append(output.tolist())\n",
        "\n",
        "test_text_loader = TorchDataLoader(test_text_dataset, batch_size=batch_size, shuffle=False)\n",
        "text_embeddings = []\n",
        "for batch in test_text_loader:\n",
        "    for output in text_model(batch['input_ids'].to(device),\n",
        "                             attention_mask=batch['attention_mask'].to(device)):\n",
        "        text_embeddings.append(output.tolist())\n",
        "\n",
        "print('Text Embeddings Done!')"
      ]
    },
    {
      "cell_type": "markdown",
      "metadata": {
        "id": "785Y4wlpMa8U"
      },
      "source": [
        "### Sumbission File Generation"
      ]
    },
    {
      "cell_type": "code",
      "execution_count": null,
      "metadata": {
        "execution": {
          "iopub.execute_input": "2023-12-27T00:01:25.300372Z",
          "iopub.status.busy": "2023-12-27T00:01:25.300020Z",
          "iopub.status.idle": "2023-12-27T00:01:47.776404Z",
          "shell.execute_reply": "2023-12-27T00:01:47.775422Z",
          "shell.execute_reply.started": "2023-12-27T00:01:25.300339Z"
        },
        "id": "jn_h_v0XMa8U",
        "trusted": true
      },
      "outputs": [],
      "source": [
        "print('Creating Submission File...\\n')\n",
        "\n",
        "similarity = cosine_similarity(text_embeddings, graph_embeddings)\n",
        "\n",
        "solution = pd.DataFrame(similarity)\n",
        "solution['ID'] = solution.index\n",
        "solution = solution[['ID'] + [col for col in solution.columns if col!='ID']]\n",
        "solution.to_csv('submission.csv', index=False)\n",
        "\n",
        "print('Submission File Ready!')"
      ]
    }
  ],
  "metadata": {
    "accelerator": "GPU",
    "colab": {
      "gpuType": "T4",
      "provenance": []
    },
    "kaggle": {
      "accelerator": "gpu",
      "dataSources": [
        {
          "datasetId": 4224039,
          "sourceId": 7284503,
          "sourceType": "datasetVersion"
        }
      ],
      "dockerImageVersionId": 30626,
      "isGpuEnabled": true,
      "isInternetEnabled": true,
      "language": "python",
      "sourceType": "notebook"
    },
    "kernelspec": {
      "display_name": "Python 3",
      "name": "python3"
    },
    "language_info": {
      "codemirror_mode": {
        "name": "ipython",
        "version": 3
      },
      "file_extension": ".py",
      "mimetype": "text/x-python",
      "name": "python",
      "nbconvert_exporter": "python",
      "pygments_lexer": "ipython3",
      "version": "3.10.9"
    }
  },
  "nbformat": 4,
  "nbformat_minor": 0
}
