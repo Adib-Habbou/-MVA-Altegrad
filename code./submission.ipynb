{
 "cells": [
  {
   "cell_type": "code",
   "execution_count": 1,
   "metadata": {},
   "outputs": [],
   "source": [
    "import pandas as pd\n",
    "import numpy as np"
   ]
  },
  {
   "cell_type": "code",
   "execution_count": 3,
   "metadata": {},
   "outputs": [],
   "source": [
    "def combine_csv_files(file_names, weights, output_file_name):\n",
    "    aggregated_df = pd.DataFrame()\n",
    "\n",
    "    for file_name, weight in zip(file_names, weights):\n",
    "        file_path = f'../submissions/{file_name}.csv'\n",
    "        df = pd.read_csv(file_path, header=None, dtype=float, skiprows=1)\n",
    "\n",
    "        if aggregated_df.empty:\n",
    "            aggregated_df = weight * df\n",
    "        else:\n",
    "            aggregated_df += weight * df\n",
    "\n",
    "    aggregated_df = aggregated_df.drop(aggregated_df.columns[0], axis=1)\n",
    "    aggregated_df.columns.name = 'ID'\n",
    "\n",
    "    output_file_path = f'../submissions/{output_file_name}.csv'\n",
    "    aggregated_df.to_csv(output_file_path, index_label='ID', index=True, header=True)"
   ]
  },
  {
   "cell_type": "code",
   "execution_count": null,
   "metadata": {},
   "outputs": [],
   "source": [
    "input_files = ['GAT_final', 'GATv2_final']\n",
    "\n",
    "output_file = 'GAT_GATv2_final'\n",
    "\n",
    "weights = [1/2, 1/2]\n",
    "\n",
    "combine_csv_files(input_files, output_file, weights)"
   ]
  },
  {
   "cell_type": "code",
   "execution_count": null,
   "metadata": {},
   "outputs": [],
   "source": [
    "input_files = ['GAT_final', 'SuperGAT_final']\n",
    "\n",
    "output_file = 'GAT_SuperGAT_final'\n",
    "\n",
    "weights = [1/2, 1/2]\n",
    "\n",
    "combine_csv_files(input_files, output_file, weights)"
   ]
  },
  {
   "cell_type": "code",
   "execution_count": null,
   "metadata": {},
   "outputs": [],
   "source": [
    "input_files = ['GATv2_final', 'SuperGAT_final']\n",
    "\n",
    "output_file = 'GATv2_SuperGAT_final'\n",
    "\n",
    "weights = [1/2, 1/2]\n",
    "\n",
    "combine_csv_files(input_files, output_file, weights)"
   ]
  },
  {
   "cell_type": "code",
   "execution_count": null,
   "metadata": {},
   "outputs": [],
   "source": [
    "input_files = ['GAT_final.csv', 'GATv2_final.csv']\n",
    "\n",
    "output_file = 'GAT_GATv2_final.csv'\n",
    "\n",
    "weights = [1/2, 1/2]\n",
    "\n",
    "combine_csv_files(input_files, output_file, weights)"
   ]
  },
  {
   "cell_type": "code",
   "execution_count": null,
   "metadata": {},
   "outputs": [],
   "source": [
    "input_files = ['GAT_final.csv', 'GATv2_final.csv', 'SuperGAT_final.csv']\n",
    "\n",
    "output_file = 'GAT_GATv2_SuperGAT_final.csv'\n",
    "\n",
    "weights = [1/3, 1/3, 1/3]\n",
    "\n",
    "combine_csv_files(input_files, output_file, weights)"
   ]
  }
 ],
 "metadata": {
  "kernelspec": {
   "display_name": "base",
   "language": "python",
   "name": "python3"
  },
  "language_info": {
   "codemirror_mode": {
    "name": "ipython",
    "version": 3
   },
   "file_extension": ".py",
   "mimetype": "text/x-python",
   "name": "python",
   "nbconvert_exporter": "python",
   "pygments_lexer": "ipython3",
   "version": "3.10.9"
  }
 },
 "nbformat": 4,
 "nbformat_minor": 2
}
